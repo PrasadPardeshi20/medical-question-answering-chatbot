{
 "cells": [
  {
   "cell_type": "code",
   "execution_count": 2,
   "id": "e49d2d02-1417-4664-91ff-8839bb5ab9dc",
   "metadata": {},
   "outputs": [],
   "source": [
    "import os\n",
    "import xml.etree.ElementTree as ET\n",
    "import pandas as pd"
   ]
  },
  {
   "cell_type": "code",
   "execution_count": 3,
   "id": "90e92c12-9efc-480c-96ed-7b343b1f5090",
   "metadata": {},
   "outputs": [],
   "source": [
    "base_dir = \"C:\\Task2_Medical_QA_Chatbot\\data\\MedQA_QA_pair\"\n",
    "questions, answers = [], []"
   ]
  },
  {
   "cell_type": "code",
   "execution_count": 4,
   "id": "804772a6-ff0f-4a5e-aeb6-a1c481710484",
   "metadata": {},
   "outputs": [],
   "source": [
    "for folder in os.listdir(base_dir):\n",
    "    folder_path = os.path.join(base_dir, folder)\n",
    "    if os.path.isdir(folder_path):\n",
    "        for file in os.listdir(folder_path):\n",
    "            if file.endswith(\".xml\"):\n",
    "                file_path = os.path.join(folder_path, file)\n",
    "                try:\n",
    "                    tree = ET.parse(file_path)\n",
    "                    root = tree.getroot()\n",
    "                    question = root.find(\".//Question\").text\n",
    "                    answer = root.find(\".//Answer\").text\n",
    "                    if question and answer:\n",
    "                        questions.append(question.strip())\n",
    "                        answers.append(answer.strip())\n",
    "                except:\n",
    "                    continue\n"
   ]
  },
  {
   "cell_type": "code",
   "execution_count": 5,
   "id": "680f488f-9531-46ca-a803-5150bfb1d298",
   "metadata": {},
   "outputs": [
    {
     "name": "stdout",
     "output_type": "stream",
     "text": [
      "Total QA pairs: 5482\n"
     ]
    },
    {
     "data": {
      "text/html": [
       "<div>\n",
       "<style scoped>\n",
       "    .dataframe tbody tr th:only-of-type {\n",
       "        vertical-align: middle;\n",
       "    }\n",
       "\n",
       "    .dataframe tbody tr th {\n",
       "        vertical-align: top;\n",
       "    }\n",
       "\n",
       "    .dataframe thead th {\n",
       "        text-align: right;\n",
       "    }\n",
       "</style>\n",
       "<table border=\"1\" class=\"dataframe\">\n",
       "  <thead>\n",
       "    <tr style=\"text-align: right;\">\n",
       "      <th></th>\n",
       "      <th>question</th>\n",
       "      <th>answer</th>\n",
       "    </tr>\n",
       "  </thead>\n",
       "  <tbody>\n",
       "    <tr>\n",
       "      <th>0</th>\n",
       "      <td>What is (are) Adult Acute Lymphoblastic Leukem...</td>\n",
       "      <td>Key Points\\n                    - Adult acute ...</td>\n",
       "    </tr>\n",
       "    <tr>\n",
       "      <th>1</th>\n",
       "      <td>What is (are) Adult Acute Myeloid Leukemia ?</td>\n",
       "      <td>Key Points\\n                    - Adult acute ...</td>\n",
       "    </tr>\n",
       "    <tr>\n",
       "      <th>2</th>\n",
       "      <td>What is (are) Chronic Lymphocytic Leukemia ?</td>\n",
       "      <td>Key Points\\n                    - Chronic lymp...</td>\n",
       "    </tr>\n",
       "    <tr>\n",
       "      <th>3</th>\n",
       "      <td>What is (are) Chronic Myelogenous Leukemia ?</td>\n",
       "      <td>Key Points\\n                    - Chronic myel...</td>\n",
       "    </tr>\n",
       "    <tr>\n",
       "      <th>4</th>\n",
       "      <td>What is (are) Hairy Cell Leukemia ?</td>\n",
       "      <td>Key Points\\n                    - Hairy cell l...</td>\n",
       "    </tr>\n",
       "  </tbody>\n",
       "</table>\n",
       "</div>"
      ],
      "text/plain": [
       "                                            question  \\\n",
       "0  What is (are) Adult Acute Lymphoblastic Leukem...   \n",
       "1       What is (are) Adult Acute Myeloid Leukemia ?   \n",
       "2       What is (are) Chronic Lymphocytic Leukemia ?   \n",
       "3       What is (are) Chronic Myelogenous Leukemia ?   \n",
       "4                What is (are) Hairy Cell Leukemia ?   \n",
       "\n",
       "                                              answer  \n",
       "0  Key Points\\n                    - Adult acute ...  \n",
       "1  Key Points\\n                    - Adult acute ...  \n",
       "2  Key Points\\n                    - Chronic lymp...  \n",
       "3  Key Points\\n                    - Chronic myel...  \n",
       "4  Key Points\\n                    - Hairy cell l...  "
      ]
     },
     "execution_count": 5,
     "metadata": {},
     "output_type": "execute_result"
    }
   ],
   "source": [
    "df = pd.DataFrame({'question': questions, 'answer': answers})\n",
    "print(\"Total QA pairs:\", len(df))\n",
    "df.head()"
   ]
  },
  {
   "cell_type": "code",
   "execution_count": 6,
   "id": "b6426935-8fe7-429c-a471-c5355be1914c",
   "metadata": {},
   "outputs": [
    {
     "name": "stderr",
     "output_type": "stream",
     "text": [
      "C:\\Users\\Hp\\anaconda3\\envs\\medqa\\lib\\site-packages\\tqdm\\auto.py:21: TqdmWarning: IProgress not found. Please update jupyter and ipywidgets. See https://ipywidgets.readthedocs.io/en/stable/user_install.html\n",
      "  from .autonotebook import tqdm as notebook_tqdm\n"
     ]
    }
   ],
   "source": [
    "from sentence_transformers import SentenceTransformer\n",
    "from sklearn.metrics.pairwise import cosine_similarity\n",
    "import numpy as np\n"
   ]
  },
  {
   "cell_type": "code",
   "execution_count": 7,
   "id": "70bd7447-4b4d-4980-87e3-ef16c9082dbc",
   "metadata": {},
   "outputs": [],
   "source": [
    "model = SentenceTransformer('all-MiniLM-L6-v2')\n",
    "question_embeddings = model.encode(df['question'].tolist(), convert_to_tensor=True)"
   ]
  },
  {
   "cell_type": "code",
   "execution_count": 8,
   "id": "6ddc9e6a-13e7-4791-b37c-5232154d9d4a",
   "metadata": {},
   "outputs": [],
   "source": [
    "def get_best_answer(user_question, top_k=1):\n",
    "    user_embedding = model.encode([user_question], convert_to_tensor=True)\n",
    "    scores = cosine_similarity(user_embedding, question_embeddings)[0]\n",
    "    top_idx = np.argsort(scores)[::-1][:top_k]\n",
    "    return [(df['question'].iloc[i], df['answer'].iloc[i], scores[i]) for i in top_idx]\n"
   ]
  },
  {
   "cell_type": "code",
   "execution_count": 9,
   "id": "08c80185-83e7-4f51-b86e-a494d5a98853",
   "metadata": {},
   "outputs": [],
   "source": [
    "import re"
   ]
  },
  {
   "cell_type": "code",
   "execution_count": 10,
   "id": "134ce93d-9a3e-4553-85ba-56cbc0d74372",
   "metadata": {},
   "outputs": [],
   "source": [
    "diseases = [\"leukemia\", \"diabetes\", \"asthma\", \"cancer\", \"flu\"]\n",
    "treatments = [\"chemotherapy\", \"radiation\", \"immunotherapy\", \"surgery\", \"transplant\"]\n",
    "symptoms = [\"fever\", \"cough\", \"pain\", \"fatigue\", \"headache\"]\n"
   ]
  },
  {
   "cell_type": "code",
   "execution_count": 11,
   "id": "2e8fbe4e-b306-485f-bfab-be85874284f6",
   "metadata": {},
   "outputs": [],
   "source": [
    "def basic_entity_recognition(text):\n",
    "    found = []\n",
    "    for word in diseases:\n",
    "        if re.search(rf\"\\b{word}\\b\", text, re.IGNORECASE):\n",
    "            found.append((word, \"DISEASE\"))\n",
    "    for word in treatments:\n",
    "        if re.search(rf\"\\b{word}\\b\", text, re.IGNORECASE):\n",
    "            found.append((word, \"TREATMENT\"))\n",
    "    for word in symptoms:\n",
    "        if re.search(rf\"\\b{word}\\b\", text, re.IGNORECASE):\n",
    "            found.append((word, \"SYMPTOM\"))\n",
    "    return found"
   ]
  },
  {
   "cell_type": "code",
   "execution_count": 12,
   "id": "c5f58288-95ee-4d45-ae5f-a79e5609f241",
   "metadata": {},
   "outputs": [],
   "source": [
    "user_q = \"How is leukemia treated?\""
   ]
  },
  {
   "cell_type": "code",
   "execution_count": 13,
   "id": "3b368ea6-2f38-4c40-a858-0f7436402cd7",
   "metadata": {},
   "outputs": [],
   "source": [
    "results = get_best_answer(user_q)\n",
    "match_q, ans, score = results[0]"
   ]
  },
  {
   "cell_type": "code",
   "execution_count": 14,
   "id": "297d4c3e-00e5-4c9c-946a-e7401e65d4a2",
   "metadata": {},
   "outputs": [
    {
     "name": "stdout",
     "output_type": "stream",
     "text": [
      "Matched Question: What is (are) Leukemia ?\n",
      "Answer: Leukemia is cancer of the white blood cells. White blood cells help your body fight infection. Your blood cells form in your bone marrow. In leukemia, the bone marrow produces abnormal white blood cells. These cells crowd out the healthy blood cells, making it hard for blood to do its work.    There are different types of leukemia, including       - Acute lymphocytic leukemia    - Acute myeloid leukemia    - Chronic lymphocytic leukemia    - Chronic myeloid leukemia       Leukemia can develop quickly or slowly. Chronic leukemia grows slowly. In acute leukemia, the cells are very abnormal and their number increases rapidly. Adults can get either type; children with leukemia most often have an acute type. Some leukemias can often be cured. Other types are hard to cure, but you can often control them. Treatments may include chemotherapy, radiation and stem cell transplantation. Even if symptoms disappear, you might need therapy to prevent a relapse.    NIH: National Cancer Institute\n",
      "Similarity: 0.722\n"
     ]
    }
   ],
   "source": [
    "print(\"Matched Question:\", match_q)\n",
    "print(\"Answer:\", ans)\n",
    "print(\"Similarity:\", round(score, 3))"
   ]
  },
  {
   "cell_type": "code",
   "execution_count": 15,
   "id": "10fb0afd-5855-427e-883a-e01074837cf9",
   "metadata": {},
   "outputs": [
    {
     "name": "stdout",
     "output_type": "stream",
     "text": [
      "\n",
      "Entities:\n",
      "leukemia — DISEASE\n",
      "cancer — DISEASE\n",
      "chemotherapy — TREATMENT\n",
      "radiation — TREATMENT\n"
     ]
    }
   ],
   "source": [
    "entities = basic_entity_recognition(ans)\n",
    "print(\"\\nEntities:\")\n",
    "for ent, label in entities:\n",
    "    print(f\"{ent} — {label}\")"
   ]
  },
  {
   "cell_type": "code",
   "execution_count": null,
   "id": "77700e6b-b7f7-477d-8a22-13df2efe70b5",
   "metadata": {},
   "outputs": [],
   "source": []
  }
 ],
 "metadata": {
  "kernelspec": {
   "display_name": "Python [conda env:medqa]",
   "language": "python",
   "name": "conda-env-medqa-py"
  },
  "language_info": {
   "codemirror_mode": {
    "name": "ipython",
    "version": 3
   },
   "file_extension": ".py",
   "mimetype": "text/x-python",
   "name": "python",
   "nbconvert_exporter": "python",
   "pygments_lexer": "ipython3",
   "version": "3.10.18"
  }
 },
 "nbformat": 4,
 "nbformat_minor": 5
}
